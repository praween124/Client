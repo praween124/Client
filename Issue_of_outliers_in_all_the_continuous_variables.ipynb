{
  "nbformat": 4,
  "nbformat_minor": 0,
  "metadata": {
    "colab": {
      "name": "Issue of outliers in all the continuous variables.ipynb",
      "provenance": [],
      "authorship_tag": "ABX9TyMeSE7bzdN1a61br4+rzWhw",
      "include_colab_link": true
    },
    "kernelspec": {
      "name": "python3",
      "display_name": "Python 3"
    }
  },
  "cells": [
    {
      "cell_type": "markdown",
      "metadata": {
        "id": "view-in-github",
        "colab_type": "text"
      },
      "source": [
        "<a href=\"https://colab.research.google.com/github/praween124/Client/blob/master/Issue_of_outliers_in_all_the_continuous_variables.ipynb\" target=\"_parent\"><img src=\"https://colab.research.google.com/assets/colab-badge.svg\" alt=\"Open In Colab\"/></a>"
      ]
    },
    {
      "cell_type": "markdown",
      "metadata": {
        "id": "Ljxe-TXVXbYl",
        "colab_type": "text"
      },
      "source": [
        "Create function for input"
      ]
    },
    {
      "cell_type": "code",
      "metadata": {
        "id": "e2WVCzJjXg5_",
        "colab_type": "code",
        "colab": {}
      },
      "source": [
        ""
      ],
      "execution_count": null,
      "outputs": []
    },
    {
      "cell_type": "markdown",
      "metadata": {
        "id": "pPEN59VjbdVB",
        "colab_type": "text"
      },
      "source": [
        "2) Write a python function which take a dataframe as input and deals with the issue of outliers in all the continuous variables.\n",
        "\n",
        "Things to consider:\n",
        "\n",
        "· It’s up to you on how you want to deal with outliers. You can either remove them or impute them.\n",
        "\n",
        "· We consider outliers as incorrect entries and not the one which are natural. For example, in the salary column, if there is a value of $1,000,000 then this value can be due to a natural cause (like it’s a salary for a CEO) or it can be a case of incorrect entry (like someone put an extra zero). So, we are only after incorrect entries.\n",
        "\n",
        "· Function should also identify which columns are continuous so that you can perform outlier removal on these columns\n",
        "\n",
        "· The code must be very fast so you cannot use multivariate approach which are based on distance calculation between all points.\n",
        "\n",
        "· Code should be well commented and easy to interpret\n",
        "\n",
        "· Use google Colab\n",
        "\n",
        "· Code should be robust enough to run on any dataset and the dataset on which we will test will not be a perfect dataset as in the case of real world\n",
        "\n",
        "· Make a dummy dataset by yourself or pass any publicly available dataset to test out your logic"
      ]
    },
    {
      "cell_type": "code",
      "metadata": {
        "id": "J0-lu23NbjB7",
        "colab_type": "code",
        "colab": {}
      },
      "source": [
        "import pandas as pd\n",
        "import matplotlib.pyplot as plt\n",
        "import seaborn as sns"
      ],
      "execution_count": 18,
      "outputs": []
    },
    {
      "cell_type": "code",
      "metadata": {
        "id": "a1tjuj7ZcSGz",
        "colab_type": "code",
        "colab": {}
      },
      "source": [
        "emp = {'ID': [1,2,3,4,5,6,7,8,9,10],\n",
        "      'Name': ['Pratap', 'Rajesh', 'Rohan', 'Ramesh', 'Sonam', 'Mukesh', 'Ayush', 'Nitish', 'Vijay', 'Arbind'],\n",
        "      'Sallary': [20000, 300000, 35000, 45000, 25000, 550000, 63000, 37000, 42000, 45000]}\n",
        "df = pd.DataFrame(emp)"
      ],
      "execution_count": 19,
      "outputs": []
    },
    {
      "cell_type": "code",
      "metadata": {
        "id": "iQaW7qHacWJN",
        "colab_type": "code",
        "colab": {
          "base_uri": "https://localhost:8080/",
          "height": 35
        },
        "outputId": "11eaae4f-91c9-47ab-b8e7-107d0d987942"
      },
      "source": [
        "df.shape"
      ],
      "execution_count": 20,
      "outputs": [
        {
          "output_type": "execute_result",
          "data": {
            "text/plain": [
              "(10, 3)"
            ]
          },
          "metadata": {
            "tags": []
          },
          "execution_count": 20
        }
      ]
    },
    {
      "cell_type": "code",
      "metadata": {
        "id": "PevjeDjCcobP",
        "colab_type": "code",
        "colab": {
          "base_uri": "https://localhost:8080/",
          "height": 191
        },
        "outputId": "8a7a99c5-4ea5-4ec8-aa4d-eb426a8747cc"
      },
      "source": [
        "df.info()"
      ],
      "execution_count": 21,
      "outputs": [
        {
          "output_type": "stream",
          "text": [
            "<class 'pandas.core.frame.DataFrame'>\n",
            "RangeIndex: 10 entries, 0 to 9\n",
            "Data columns (total 3 columns):\n",
            " #   Column   Non-Null Count  Dtype \n",
            "---  ------   --------------  ----- \n",
            " 0   ID       10 non-null     int64 \n",
            " 1   Name     10 non-null     object\n",
            " 2   Sallary  10 non-null     int64 \n",
            "dtypes: int64(2), object(1)\n",
            "memory usage: 368.0+ bytes\n"
          ],
          "name": "stdout"
        }
      ]
    },
    {
      "cell_type": "code",
      "metadata": {
        "id": "hgTxZkAtcy2j",
        "colab_type": "code",
        "colab": {
          "base_uri": "https://localhost:8080/",
          "height": 87
        },
        "outputId": "34649642-10cf-46ad-d9a9-7357f77a5a17"
      },
      "source": [
        "df.isnull().sum()"
      ],
      "execution_count": 22,
      "outputs": [
        {
          "output_type": "execute_result",
          "data": {
            "text/plain": [
              "ID         0\n",
              "Name       0\n",
              "Sallary    0\n",
              "dtype: int64"
            ]
          },
          "metadata": {
            "tags": []
          },
          "execution_count": 22
        }
      ]
    },
    {
      "cell_type": "code",
      "metadata": {
        "id": "Qkwm3Mbac3SV",
        "colab_type": "code",
        "colab": {
          "base_uri": "https://localhost:8080/",
          "height": 355
        },
        "outputId": "508703ef-fa3d-4116-cfb8-2179766ace5e"
      },
      "source": [
        "df"
      ],
      "execution_count": 23,
      "outputs": [
        {
          "output_type": "execute_result",
          "data": {
            "text/html": [
              "<div>\n",
              "<style scoped>\n",
              "    .dataframe tbody tr th:only-of-type {\n",
              "        vertical-align: middle;\n",
              "    }\n",
              "\n",
              "    .dataframe tbody tr th {\n",
              "        vertical-align: top;\n",
              "    }\n",
              "\n",
              "    .dataframe thead th {\n",
              "        text-align: right;\n",
              "    }\n",
              "</style>\n",
              "<table border=\"1\" class=\"dataframe\">\n",
              "  <thead>\n",
              "    <tr style=\"text-align: right;\">\n",
              "      <th></th>\n",
              "      <th>ID</th>\n",
              "      <th>Name</th>\n",
              "      <th>Sallary</th>\n",
              "    </tr>\n",
              "  </thead>\n",
              "  <tbody>\n",
              "    <tr>\n",
              "      <th>0</th>\n",
              "      <td>1</td>\n",
              "      <td>Pratap</td>\n",
              "      <td>20000</td>\n",
              "    </tr>\n",
              "    <tr>\n",
              "      <th>1</th>\n",
              "      <td>2</td>\n",
              "      <td>Rajesh</td>\n",
              "      <td>300000</td>\n",
              "    </tr>\n",
              "    <tr>\n",
              "      <th>2</th>\n",
              "      <td>3</td>\n",
              "      <td>Rohan</td>\n",
              "      <td>35000</td>\n",
              "    </tr>\n",
              "    <tr>\n",
              "      <th>3</th>\n",
              "      <td>4</td>\n",
              "      <td>Ramesh</td>\n",
              "      <td>45000</td>\n",
              "    </tr>\n",
              "    <tr>\n",
              "      <th>4</th>\n",
              "      <td>5</td>\n",
              "      <td>Sonam</td>\n",
              "      <td>25000</td>\n",
              "    </tr>\n",
              "    <tr>\n",
              "      <th>5</th>\n",
              "      <td>6</td>\n",
              "      <td>Mukesh</td>\n",
              "      <td>550000</td>\n",
              "    </tr>\n",
              "    <tr>\n",
              "      <th>6</th>\n",
              "      <td>7</td>\n",
              "      <td>Ayush</td>\n",
              "      <td>63000</td>\n",
              "    </tr>\n",
              "    <tr>\n",
              "      <th>7</th>\n",
              "      <td>8</td>\n",
              "      <td>Nitish</td>\n",
              "      <td>37000</td>\n",
              "    </tr>\n",
              "    <tr>\n",
              "      <th>8</th>\n",
              "      <td>9</td>\n",
              "      <td>Vijay</td>\n",
              "      <td>42000</td>\n",
              "    </tr>\n",
              "    <tr>\n",
              "      <th>9</th>\n",
              "      <td>10</td>\n",
              "      <td>Arbind</td>\n",
              "      <td>45000</td>\n",
              "    </tr>\n",
              "  </tbody>\n",
              "</table>\n",
              "</div>"
            ],
            "text/plain": [
              "   ID    Name  Sallary\n",
              "0   1  Pratap    20000\n",
              "1   2  Rajesh   300000\n",
              "2   3   Rohan    35000\n",
              "3   4  Ramesh    45000\n",
              "4   5   Sonam    25000\n",
              "5   6  Mukesh   550000\n",
              "6   7   Ayush    63000\n",
              "7   8  Nitish    37000\n",
              "8   9   Vijay    42000\n",
              "9  10  Arbind    45000"
            ]
          },
          "metadata": {
            "tags": []
          },
          "execution_count": 23
        }
      ]
    },
    {
      "cell_type": "code",
      "metadata": {
        "id": "aAS__sAL2TP2",
        "colab_type": "code",
        "colab": {
          "base_uri": "https://localhost:8080/",
          "height": 307
        },
        "outputId": "d9778d97-3d15-400f-c870-4e0cca2c80a7"
      },
      "source": [
        "aa = sns.distplot(df['Sallary'])\n",
        "\n",
        "aa.set(xlabel ='Sallary') "
      ],
      "execution_count": 25,
      "outputs": [
        {
          "output_type": "execute_result",
          "data": {
            "text/plain": [
              "[Text(0.5, 0, 'Sallary')]"
            ]
          },
          "metadata": {
            "tags": []
          },
          "execution_count": 25
        },
        {
          "output_type": "display_data",
          "data": {
            "image/png": "[encoded data removed]",
            "text/plain": [
              "<Figure size 432x288 with 1 Axes>"
            ]
          },
          "metadata": {
            "tags": [],
            "needs_background": "light"
          }
        }
      ]
    },
    {
      "cell_type": "code",
      "metadata": {
        "id": "bUODA-KLdHKM",
        "colab_type": "code",
        "colab": {
          "base_uri": "https://localhost:8080/",
          "height": 191
        },
        "outputId": "3ba4a3fe-28d4-4e74-8422-3c5e85b0456d"
      },
      "source": [
        "for i in range(len(df['Sallary'])):\n",
        "    print(df['Sallary'][i] > 100000)"
      ],
      "execution_count": 26,
      "outputs": [
        {
          "output_type": "stream",
          "text": [
            "False\n",
            "True\n",
            "False\n",
            "False\n",
            "False\n",
            "True\n",
            "False\n",
            "False\n",
            "False\n",
            "False\n"
          ],
          "name": "stdout"
        }
      ]
    },
    {
      "cell_type": "code",
      "metadata": {
        "id": "3uG7s2PkdSve",
        "colab_type": "code",
        "colab": {
          "base_uri": "https://localhost:8080/",
          "height": 52
        },
        "outputId": "53d08743-3f1d-4487-ce6e-f73472c8055a"
      },
      "source": [
        "for i in range(len(df['Sallary'])):\n",
        "    miss_values = df['Sallary'][i] > 100000\n",
        "    if miss_values == True:\n",
        "        print(df['Sallary'][i])"
      ],
      "execution_count": 27,
      "outputs": [
        {
          "output_type": "stream",
          "text": [
            "300000\n",
            "550000\n"
          ],
          "name": "stdout"
        }
      ]
    },
    {
      "cell_type": "code",
      "metadata": {
        "id": "KOka9AdidgmS",
        "colab_type": "code",
        "colab": {
          "base_uri": "https://localhost:8080/",
          "height": 104
        },
        "outputId": "cdc36465-b947-4139-81bc-f170683423d2"
      },
      "source": [
        "# extra zero\n",
        "\n",
        "for i in range(len(df['Sallary'])):\n",
        "    miss_values = df['Sallary'][i] > 100000\n",
        "    if miss_values == True:\n",
        "#         print(f\"Possition-{i+1}   {df['Sallary'][i]}\")\n",
        "        n=int(df['Sallary'][i])\n",
        "        count=0\n",
        "        while(n>0):\n",
        "            count=count+1\n",
        "            n=n//10\n",
        "#         print(f\"The number of digits in the number are: {df['Sallary'][i]} - {count}\")\n",
        "        df['Sallary'][i] = df['Sallary'][i]//10"
      ],
      "execution_count": 28,
      "outputs": [
        {
          "output_type": "stream",
          "text": [
            "/usr/local/lib/python3.6/dist-packages/ipykernel_launcher.py:13: SettingWithCopyWarning: \n",
            "A value is trying to be set on a copy of a slice from a DataFrame\n",
            "\n",
            "See the caveats in the documentation: https://pandas.pydata.org/pandas-docs/stable/user_guide/indexing.html#returning-a-view-versus-a-copy\n",
            "  del sys.path[0]\n"
          ],
          "name": "stderr"
        }
      ]
    },
    {
      "cell_type": "code",
      "metadata": {
        "id": "LKQ4-VB-dvl6",
        "colab_type": "code",
        "colab": {
          "base_uri": "https://localhost:8080/",
          "height": 355
        },
        "outputId": "d8f4edde-d143-45f4-e225-bb668e4cde68"
      },
      "source": [
        "df"
      ],
      "execution_count": 29,
      "outputs": [
        {
          "output_type": "execute_result",
          "data": {
            "text/html": [
              "<div>\n",
              "<style scoped>\n",
              "    .dataframe tbody tr th:only-of-type {\n",
              "        vertical-align: middle;\n",
              "    }\n",
              "\n",
              "    .dataframe tbody tr th {\n",
              "        vertical-align: top;\n",
              "    }\n",
              "\n",
              "    .dataframe thead th {\n",
              "        text-align: right;\n",
              "    }\n",
              "</style>\n",
              "<table border=\"1\" class=\"dataframe\">\n",
              "  <thead>\n",
              "    <tr style=\"text-align: right;\">\n",
              "      <th></th>\n",
              "      <th>ID</th>\n",
              "      <th>Name</th>\n",
              "      <th>Sallary</th>\n",
              "    </tr>\n",
              "  </thead>\n",
              "  <tbody>\n",
              "    <tr>\n",
              "      <th>0</th>\n",
              "      <td>1</td>\n",
              "      <td>Pratap</td>\n",
              "      <td>20000</td>\n",
              "    </tr>\n",
              "    <tr>\n",
              "      <th>1</th>\n",
              "      <td>2</td>\n",
              "      <td>Rajesh</td>\n",
              "      <td>30000</td>\n",
              "    </tr>\n",
              "    <tr>\n",
              "      <th>2</th>\n",
              "      <td>3</td>\n",
              "      <td>Rohan</td>\n",
              "      <td>35000</td>\n",
              "    </tr>\n",
              "    <tr>\n",
              "      <th>3</th>\n",
              "      <td>4</td>\n",
              "      <td>Ramesh</td>\n",
              "      <td>45000</td>\n",
              "    </tr>\n",
              "    <tr>\n",
              "      <th>4</th>\n",
              "      <td>5</td>\n",
              "      <td>Sonam</td>\n",
              "      <td>25000</td>\n",
              "    </tr>\n",
              "    <tr>\n",
              "      <th>5</th>\n",
              "      <td>6</td>\n",
              "      <td>Mukesh</td>\n",
              "      <td>55000</td>\n",
              "    </tr>\n",
              "    <tr>\n",
              "      <th>6</th>\n",
              "      <td>7</td>\n",
              "      <td>Ayush</td>\n",
              "      <td>63000</td>\n",
              "    </tr>\n",
              "    <tr>\n",
              "      <th>7</th>\n",
              "      <td>8</td>\n",
              "      <td>Nitish</td>\n",
              "      <td>37000</td>\n",
              "    </tr>\n",
              "    <tr>\n",
              "      <th>8</th>\n",
              "      <td>9</td>\n",
              "      <td>Vijay</td>\n",
              "      <td>42000</td>\n",
              "    </tr>\n",
              "    <tr>\n",
              "      <th>9</th>\n",
              "      <td>10</td>\n",
              "      <td>Arbind</td>\n",
              "      <td>45000</td>\n",
              "    </tr>\n",
              "  </tbody>\n",
              "</table>\n",
              "</div>"
            ],
            "text/plain": [
              "   ID    Name  Sallary\n",
              "0   1  Pratap    20000\n",
              "1   2  Rajesh    30000\n",
              "2   3   Rohan    35000\n",
              "3   4  Ramesh    45000\n",
              "4   5   Sonam    25000\n",
              "5   6  Mukesh    55000\n",
              "6   7   Ayush    63000\n",
              "7   8  Nitish    37000\n",
              "8   9   Vijay    42000\n",
              "9  10  Arbind    45000"
            ]
          },
          "metadata": {
            "tags": []
          },
          "execution_count": 29
        }
      ]
    },
    {
      "cell_type": "code",
      "metadata": {
        "id": "bcJwWrNe1UYE",
        "colab_type": "code",
        "colab": {
          "base_uri": "https://localhost:8080/",
          "height": 307
        },
        "outputId": "b4680a4c-5029-4dd0-f0a1-fbd5ce9b8abb"
      },
      "source": [
        "# After modify data frame graph\n",
        "\n",
        "aa = sns.distplot(df['Sallary'])\n",
        "\n",
        "aa.set(xlabel ='Average') "
      ],
      "execution_count": 30,
      "outputs": [
        {
          "output_type": "execute_result",
          "data": {
            "text/plain": [
              "[Text(0.5, 0, 'Average')]"
            ]
          },
          "metadata": {
            "tags": []
          },
          "execution_count": 30
        },
        {
          "output_type": "display_data",
          "data": {
            "image/png": "[encoded data removed]",
            "text/plain": [
              "<Figure size 432x288 with 1 Axes>"
            ]
          },
          "metadata": {
            "tags": [],
            "needs_background": "light"
          }
        }
      ]
    },
    {
      "cell_type": "code",
      "metadata": {
        "id": "yiVd5yJq1aXX",
        "colab_type": "code",
        "colab": {}
      },
      "source": [
        ""
      ],
      "execution_count": null,
      "outputs": []
    },
    {
      "cell_type": "code",
      "metadata": {
        "id": "GLbPOZFY23Bg",
        "colab_type": "code",
        "colab": {}
      },
      "source": [
        ""
      ],
      "execution_count": null,
      "outputs": []
    }
  ]
}